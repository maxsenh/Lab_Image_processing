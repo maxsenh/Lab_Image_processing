{
 "cells": [
  {
   "cell_type": "markdown",
   "id": "widespread-matter",
   "metadata": {},
   "source": [
    "## Requirements"
   ]
  },
  {
   "cell_type": "markdown",
   "id": "sophisticated-discharge",
   "metadata": {},
   "source": [
    " ```bash\n",
    " conda create --name keras_dl\n",
    " conda activate keras_dl\n",
    " conda install -c anaconda ipykernel\n",
    " python -m ipykernel install --user --name=firstEnv\n",
    " https://phoenixnap.com/kb/how-to-install-keras-on-linux\n",
    " ```"
   ]
  },
  {
   "cell_type": "code",
   "execution_count": 2,
   "id": "nominated-favor",
   "metadata": {},
   "outputs": [],
   "source": [
    "from google_images_download import google_images_download"
   ]
  },
  {
   "cell_type": "code",
   "execution_count": null,
   "id": "based-sheffield",
   "metadata": {},
   "outputs": [],
   "source": []
  }
 ],
 "metadata": {
  "kernelspec": {
   "display_name": "keras_dl",
   "language": "python",
   "name": "keras_dl"
  },
  "language_info": {
   "codemirror_mode": {
    "name": "ipython",
    "version": 3
   },
   "file_extension": ".py",
   "mimetype": "text/x-python",
   "name": "python",
   "nbconvert_exporter": "python",
   "pygments_lexer": "ipython3",
   "version": "3.8.5"
  }
 },
 "nbformat": 4,
 "nbformat_minor": 5
}
