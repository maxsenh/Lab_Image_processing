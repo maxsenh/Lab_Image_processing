{
 "cells": [
  {
   "cell_type": "markdown",
   "id": "removed-retirement",
   "metadata": {},
   "source": [
    "## Requirements"
   ]
  },
  {
   "cell_type": "raw",
   "id": "emotional-williams",
   "metadata": {},
   "source": [
    "conda create --name keras_dl\n",
    "conda activate keras_dl\n",
    "conda install -c conda-forge jupyterlab\n",
    "conda install -c anaconda ipykernel\n",
    "python -m ipykernel install --user --name=firstEnv\n",
    "https://phoenixnap.com/kb/how-to-install-keras-on-linux\n",
    "\n",
    "pip3 install tensorflow\n",
    "pip3 install keras\n",
    "\n",
    "pip install google_images_download\n",
    "python -m pip install -U matplotlib\n",
    "pip install seaborn\n",
    "pip install -U scikit-learn\n",
    "pip install opencv-python"
   ]
  },
  {
   "cell_type": "code",
   "execution_count": null,
   "id": "critical-pharmacy",
   "metadata": {},
   "outputs": [],
   "source": [
    "# old code for renaming\n",
    "for s in os.listdir(output_folder):\n",
    "    if s.startswith('.DS_Store'):\n",
    "        \n",
    "        continue\n",
    "    else:\n",
    "        path = output_folder + s\n",
    "\n",
    "        files = os.listdir(path)\n",
    "\n",
    "        for index, file in enumerate(files):\n",
    "            if file.startswith=='.DS_Store':\n",
    "                continue\n",
    "            else:\n",
    "                os.rename(os.path.join(path, file), os.path.join(path, ''.join([str(s), str(index),'.png'])))"
   ]
  }
 ],
 "metadata": {
  "kernelspec": {
   "display_name": "keras_dl",
   "language": "python",
   "name": "keras_dl"
  },
  "language_info": {
   "codemirror_mode": {
    "name": "ipython",
    "version": 3
   },
   "file_extension": ".py",
   "mimetype": "text/x-python",
   "name": "python",
   "nbconvert_exporter": "python",
   "pygments_lexer": "ipython3",
   "version": "3.8.5"
  }
 },
 "nbformat": 4,
 "nbformat_minor": 5
}
